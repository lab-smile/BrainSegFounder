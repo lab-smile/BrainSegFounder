{
 "cells": [
  {
   "cell_type": "code",
   "execution_count": 1,
   "id": "f79f6419-a262-4d73-8b07-d100a61db72f",
   "metadata": {
    "tags": []
   },
   "outputs": [],
   "source": [
    "import os\n",
    "from pathlib import Path\n",
    "import json"
   ]
  },
  {
   "cell_type": "code",
   "execution_count": 2,
   "id": "7be63af4-28bb-4a1a-9a6e-6e7146fbad5e",
   "metadata": {
    "tags": []
   },
   "outputs": [],
   "source": [
    "## CONSTANTS\n",
    "DATA_DIR = '../UKB/data/Brain'\n",
    "T1_FILE_PATH = '20252_T1_NIFTI'\n",
    "T2_FILE_PATH = '20253_T2_NIFTI'"
   ]
  },
  {
   "cell_type": "code",
   "execution_count": 3,
   "id": "744496af-1727-414c-b9b0-0178a89fc388",
   "metadata": {
    "tags": []
   },
   "outputs": [],
   "source": [
    "data_path = Path(DATA_DIR)"
   ]
  },
  {
   "cell_type": "code",
   "execution_count": 4,
   "id": "c7202dc8-f381-4505-afaf-be5b41b97d95",
   "metadata": {
    "tags": []
   },
   "outputs": [],
   "source": [
    "def split_id_from_file(filename: str) -> str: \n",
    "    '''Split patient ID from a filename. Note that this function\n",
    "    does not take into account the visit number, nor number of s\n",
    "    '''\n",
    "    return filename.split('_')[0]  # First section is id."
   ]
  },
  {
   "cell_type": "code",
   "execution_count": 5,
   "id": "ac13908b-e064-4b21-98db-cf78f311c6d9",
   "metadata": {
    "tags": []
   },
   "outputs": [],
   "source": [
    "def ids_to_json(ids: set, outdir: os.PathLike, \n",
    "                name='GatorBrain_matched_subjects.json') -> None:\n",
    "    outdir = Path(outdir)\n",
    "    with open(outdir / name, 'w') as json_file:\n",
    "        json.dump(list(ids), json_file)\n",
    "    print(f'Saved matching subject IDs to {outdir / name}')"
   ]
  },
  {
   "cell_type": "code",
   "execution_count": 6,
   "id": "45e46d92-f54f-48ff-9992-0b5d2212c1db",
   "metadata": {
    "tags": []
   },
   "outputs": [],
   "source": [
    "t1_path = data_path / T1_FILE_PATH\n",
    "t2_path = data_path / T2_FILE_PATH / 'T2_unzip'\n",
    "\n",
    "# T1 data is stored in two different areas\n",
    "new_t1_path = t1_path / 'T1_new_unzip'\n",
    "old_t1_path = t1_path / 'T1_unzip'"
   ]
  },
  {
   "cell_type": "code",
   "execution_count": 7,
   "id": "e57c9964-9b9c-4a9d-a910-989438d5e42c",
   "metadata": {
    "tags": []
   },
   "outputs": [],
   "source": [
    "old_t1_ids = [split_id_from_file(filename.name) \n",
    "              for filename in old_t1_path.iterdir()]\n",
    "\n",
    "new_t1_ids = [split_id_from_file(filename.name) \n",
    "              for filename in new_t1_path.iterdir()]\n",
    "\n",
    "t1_ids = set(old_t1_ids).union(set(new_t1_ids))"
   ]
  },
  {
   "cell_type": "code",
   "execution_count": 8,
   "id": "7ca45828-870e-4656-a7ea-3342d348b594",
   "metadata": {
    "tags": []
   },
   "outputs": [],
   "source": [
    "t2_ids = [split_id_from_file(filename.name)\n",
    "          for filename in t2_path.iterdir()]\n",
    "t2_ids = set(t2_ids)"
   ]
  },
  {
   "cell_type": "code",
   "execution_count": 9,
   "id": "d64a61d3-6419-4183-a932-4a4e2c034af3",
   "metadata": {
    "tags": []
   },
   "outputs": [],
   "source": [
    "matching_ids = t1_ids.intersection(t2_ids)"
   ]
  },
  {
   "cell_type": "code",
   "execution_count": 10,
   "id": "28d4436e-dce1-4c12-89bb-5df91f94d26f",
   "metadata": {
    "tags": []
   },
   "outputs": [
    {
     "name": "stdout",
     "output_type": "stream",
     "text": [
      "Total of 44172 unique T1 subjects\n",
      "Total of 43369 unique T2 subjects\n",
      "Total of 43367 matching subjects found\n",
      "Saved matching subject IDs to GatorBrain_matched_subjects.json\n"
     ]
    }
   ],
   "source": [
    "print(f'Total of {len(t1_ids)} unique T1 subjects')\n",
    "print(f'Total of {len(t2_ids)} unique T2 subjects')\n",
    "print(f'Total of {len(matching_ids)} matching subjects found')\n",
    "ids_to_json(matching_ids, outdir='.')"
   ]
  }
 ],
 "metadata": {
  "kernelspec": {
   "display_name": "Python 3 (ipykernel)",
   "language": "python",
   "name": "python3"
  },
  "language_info": {
   "codemirror_mode": {
    "name": "ipython",
    "version": 3
   },
   "file_extension": ".py",
   "mimetype": "text/x-python",
   "name": "python",
   "nbconvert_exporter": "python",
   "pygments_lexer": "ipython3",
   "version": "3.11.4"
  }
 },
 "nbformat": 4,
 "nbformat_minor": 5
}
