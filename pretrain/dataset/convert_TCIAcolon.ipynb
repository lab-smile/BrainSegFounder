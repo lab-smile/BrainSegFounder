{
 "cells": [
  {
   "cell_type": "code",
   "execution_count": 1,
   "id": "4396ff17-ab5d-421c-a3c3-4208e752d872",
   "metadata": {},
   "outputs": [],
   "source": [
    "import SimpleITK as sitk\n",
    "import os\n",
    "import glob\n",
    "from pathlib import Path\n",
    "import json\n",
    "import dicom2nifti\n",
    "from pprint import pprint\n",
    "import shutil"
   ]
  },
  {
   "cell_type": "code",
   "execution_count": 3,
   "id": "1171f30a-91e6-4dfc-a235-af16bc610243",
   "metadata": {},
   "outputs": [],
   "source": [
    "basedir = \"/red/ruogu.fang/yyang/data/TCIA_CT_Colon/\"\n",
    "output_dir = \"/red/ruogu.fang/yyang/Pretrain/jsons/dataset_TCIAcolon_UFL.json\"\n",
    "def generate_json_colon(basedir, output_dir):\n",
    "    image_dir = os.path.join(basedir, 'images') \n",
    "    file_list = os.listdir(image_dir)\n",
    "    train = []\n",
    "    for file in file_list[:-100]:\n",
    "        #print(file)\n",
    "        train.append({'image': 'images/' + file}) \n",
    "    val = []\n",
    "    for file in file_list[-100:]:\n",
    "        #print(file)\n",
    "        val.append({'image': 'images/' + file}) \n",
    "    #print(train)\n",
    "    #print(val)\n",
    "    output_dict = {'training': train, 'validation': val}\n",
    "    with open(output_dir, \"w\") as file_write:\n",
    "        json.dump(output_dict, file_write, indent=4) \n",
    "generate_json_colon(basedir, output_dir)"
   ]
  },
  {
   "cell_type": "code",
   "execution_count": null,
   "id": "96fd2909-82e0-4712-9c7f-11aed18d7a48",
   "metadata": {},
   "outputs": [],
   "source": []
  }
 ],
 "metadata": {
  "kernelspec": {
   "display_name": "sitkpy",
   "language": "python",
   "name": "sitkpy"
  },
  "language_info": {
   "codemirror_mode": {
    "name": "ipython",
    "version": 3
   },
   "file_extension": ".py",
   "mimetype": "text/x-python",
   "name": "python",
   "nbconvert_exporter": "python",
   "pygments_lexer": "ipython3",
   "version": "3.8.13"
  }
 },
 "nbformat": 4,
 "nbformat_minor": 5
}
