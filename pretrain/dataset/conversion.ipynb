{
 "cells": [
  {
   "cell_type": "code",
   "execution_count": 1,
   "id": "debb41f2-122f-43dc-a31f-56f5db7a46a5",
   "metadata": {},
   "outputs": [
    {
     "ename": "ModuleNotFoundError",
     "evalue": "No module named 'dicom2nifti'",
     "output_type": "error",
     "traceback": [
      "\u001b[0;31m---------------------------------------------------------------------------\u001b[0m",
      "\u001b[0;31mModuleNotFoundError\u001b[0m                       Traceback (most recent call last)",
      "\u001b[0;32m/scratch/local/63378900/ipykernel_60277/4105273491.py\u001b[0m in \u001b[0;36m<cell line: 1>\u001b[0;34m()\u001b[0m\n\u001b[0;32m----> 1\u001b[0;31m \u001b[0;32mimport\u001b[0m \u001b[0mdicom2nifti\u001b[0m\u001b[0;34m\u001b[0m\u001b[0;34m\u001b[0m\u001b[0m\n\u001b[0m\u001b[1;32m      2\u001b[0m \u001b[0;32mimport\u001b[0m \u001b[0mos\u001b[0m\u001b[0;34m\u001b[0m\u001b[0;34m\u001b[0m\u001b[0m\n\u001b[1;32m      3\u001b[0m \u001b[0;32mimport\u001b[0m \u001b[0mre\u001b[0m\u001b[0;34m\u001b[0m\u001b[0;34m\u001b[0m\u001b[0m\n\u001b[1;32m      4\u001b[0m \u001b[0;32mfrom\u001b[0m \u001b[0mpathlib\u001b[0m \u001b[0;32mimport\u001b[0m \u001b[0mPath\u001b[0m\u001b[0;34m\u001b[0m\u001b[0;34m\u001b[0m\u001b[0m\n\u001b[1;32m      5\u001b[0m \u001b[0;32mimport\u001b[0m \u001b[0mdatetime\u001b[0m\u001b[0;34m\u001b[0m\u001b[0;34m\u001b[0m\u001b[0m\n",
      "\u001b[0;31mModuleNotFoundError\u001b[0m: No module named 'dicom2nifti'"
     ]
    }
   ],
   "source": [
    "import dicom2nifti\n",
    "import os \n",
    "import re\n",
    "from pathlib import Path\n",
    "import datetime\n",
    "import json\n",
    "\n",
    "dicom2nifti.settings.disable_validate_slice_increment()"
   ]
  },
  {
   "cell_type": "code",
   "execution_count": 2,
   "id": "b8d5f931-1423-438e-8757-d0f4f81f1556",
   "metadata": {},
   "outputs": [],
   "source": [
    "## LIDC Data: \n",
    "# This is going to be so scuffed LMAO\n",
    "def count_files(directory: Path, subdirectory: Path) -> int:\n",
    "    num_files = 0\n",
    "    for _, _, files in os.walk(directory / subdirectory):\n",
    "        num_files += len(files)\n",
    "    return num_files\n",
    "\n",
    "def convert_to_nifti(directory: Path) -> None:\n",
    "    DATA_DIRECTORY = Path('./Image_LIDC')\n",
    "    print(f'Converting {directory}')\n",
    "    dicom2nifti.convert_directory(directory, DATA_DIRECTORY)\n",
    "    # This ouputs a seemingly random filename, so we need to search for it and renane\n",
    "    # I'm sure there's a better way to do this, but this is quick and dirty and it works. \n",
    "    file_int =  str(directory).split('/')[1].split('-')[2]  # It'd be nice to make sure this is an int but that would strip 0s which are necessary \n",
    "    fname = 'LIDC-IDRI-' + file_int + '_0.nii.gz'\n",
    "    old_file = [file for file in os.listdir(DATA_DIRECTORY) if \\\n",
    "                (file.endswith('.nii.gz') and not file.startswith('LIDC'))]\n",
    "    if len(old_file) == 0:\n",
    "        print('COULD NOT CONVERT, NO NIFTI GENERATED, SKIPPING')\n",
    "        return\n",
    "    assert len(old_file) == 1  # only one image SHOULD match that description\n",
    "    old_file = old_file[0]\n",
    "    os.rename(DATA_DIRECTORY/old_file, DATA_DIRECTORY/fname)\n",
    "    \n",
    "    \n",
    "def convert_LIDC() -> None:\n",
    "    data_directory = Path('./Image_LIDC')\n",
    "    for folder in data_directory.iterdir():\n",
    "        if re.search(r'\\d+$', str(folder)) is not None:\n",
    "            if len(os.listdir(folder)) == 1:\n",
    "                correct_folder = os.listdir(folder)[0]\n",
    "            elif len(os.listdir(folder)) == 2:\n",
    "                folder_1, folder_2 = os.listdir(folder)\n",
    "                f1_files, f2_files = [count_files(folder, f) for f in os.listdir(folder)]\n",
    "\n",
    "                correct_folder = folder_1 if f1_files > f2_files else folder_2\n",
    "            else:\n",
    "                folder_1, folder_2, folder_3 = os.listdir(folder)\n",
    "                f1_files, f2_files, f3_files = [count_files(folder, f) for f in os.listdir(folder)]\n",
    "                num_files_list = [f1_files, f2_files, f3_files]\n",
    "                index = num_files_list.index(max(num_files_list))\n",
    "                correct_folder = (os.listdir(folder)[index])\n",
    "            convert_to_nifti(folder/correct_folder)          "
   ]
  },
  {
   "cell_type": "code",
   "execution_count": null,
   "id": "d3486bde-dc04-4781-a093-4edf442bf5a0",
   "metadata": {},
   "outputs": [],
   "source": []
  },
  {
   "cell_type": "code",
   "execution_count": 2,
   "id": "3efe521a-3713-4eb6-b97e-e07ec4d36398",
   "metadata": {},
   "outputs": [],
   "source": [
    "# HNSCC data, probably not much better\n",
    "def locate_latest_CT_images(possible_directories: list[str]) -> list[str]:\n",
    "    latest_image = None\n",
    "    latest_date = None\n",
    "    for directory in possible_directories:\n",
    "        image_date = '-'.join(directory.split('-', 3)[:3])\n",
    "        image_date = datetime.datetime.strptime(image_date, '%m-%d-%Y')\n",
    "        if latest_image is not None:\n",
    "            if image_date > latest_date: \n",
    "                latest_image, latest_date = directory, image_date\n",
    "        else: \n",
    "            latest_image = directory\n",
    "            latest_date = image_date  \n",
    "    return [directory for directory in possible_directories if directory.startswith(latest_image)]\n",
    "\n",
    "\n",
    "def locate_CT_scan(patient: str, possible_directories: list[str]) -> str:\n",
    "    for directory in possible_directories: \n",
    "        \n",
    "        # This needs to happen first: we only want 3.000 images if there are no 2.000 images\n",
    "        for image in os.listdir(f'images/{patient}/{directory}'):\n",
    "            if '2.000000' in image:\n",
    "                if len(possible_directories) > 1:\n",
    "                    print(f'Found CT scan for {patient} in {directory} with multiple possibilities.')\n",
    "                return f'images/{patient}/{directory}/{image}'\n",
    "       \n",
    "        for image in os.listdir(f'images/{patient}/{directory}'):\n",
    "            if '3.000000' in image:\n",
    "                if len(possible_directories) > 1:\n",
    "                    print(f'Found CT scan for {patient} in {directory} with multiple possibilities.')\n",
    "                return f'images/{patient}/{directory}/{image}'\n",
    "        # Sigh    \n",
    "        for image in os.listdir(f'images/{patient}/{directory}'):\n",
    "            if '4.000000' in image:\n",
    "                if len(possible_directories) > 1:\n",
    "                    print(f'Found CT scan for {patient} in {directory} with multiple possibilities.')\n",
    "                return f'images/{patient}/{directory}/{image}'\n",
    "        \n",
    "    print(f'Could not locate CT scan for {patient} in {possible_directories}. Skipping.')\n",
    "\n",
    "\n",
    "def locate_HNSCC_image(possible_directories: list[str], patient: str) -> str:\n",
    "    latest_CT_images = locate_latest_CT_images(possible_directories)\n",
    "    CT_scan = locate_CT_scan(patient, latest_CT_images)\n",
    "    return CT_scan\n",
    "    \n",
    "def convert_CT_scan(CT_scan: str, file_name: str) -> None:\n",
    "    if CT_scan is not None:\n",
    "        dicom2nifti.convert_directory(CT_scan, './images')\n",
    "        old_file = [file for file in os.listdir('./images') if \\\n",
    "                    (file.endswith('.nii.gz') and not file.startswith('img_'))]\n",
    "        if len(old_file) == 0:\n",
    "            print('COULD NOT CONVERT, NO NIFTI GENERATED, SKIPPING')\n",
    "            return\n",
    "        old_file = old_file[0]  # Sometimes we have 2 nifti files generated, I hope this picks the right one\n",
    "        os.rename(f'./images/{old_file}', f'./images/{file_name}')\n",
    "        print(f'converted to {file_name}')\n",
    "\n",
    "    \n",
    "def convert_HNSCC() -> None:\n",
    "    for patient in os.listdir('images'):\n",
    "        print(patient, end=' ')\n",
    "        if patient.endswith('.nii.gz'): continue # Already converted :) \n",
    "        patient_id = int(patient.split('-')[-1])  # Why keep leading zeros like you did last time when you can not do that!\n",
    "        file_name = 'img_' + str(patient_id) + '.nii.gz'  # Yes because images/img_3 makes sure we all know this is from HNSCC and not just an image\n",
    "        CT_scan = locate_HNSCC_image(os.listdir(f'./images/{patient}'), patient)\n",
    "        convert_CT_scan(CT_scan, file_name)\n",
    "    "
   ]
  },
  {
   "cell_type": "code",
   "execution_count": null,
   "id": "750e4e2c-895a-414b-b734-8fa1deeb2051",
   "metadata": {},
   "outputs": [],
   "source": [
    "## TCIA Colon (Last one, worst one)\n"
   ]
  },
  {
   "cell_type": "code",
   "execution_count": 2,
   "id": "7d0055ff-ccd3-48f4-8665-31a2733b3400",
   "metadata": {},
   "outputs": [],
   "source": []
  },
  {
   "cell_type": "code",
   "execution_count": 2,
   "id": "78efc063-ef7b-4ed3-b4f6-e3367dc6a932",
   "metadata": {},
   "outputs": [],
   "source": []
  },
  {
   "cell_type": "code",
   "execution_count": 11,
   "id": "d9c48c2b-e3ba-4f6e-bb6c-d0e8569ba867",
   "metadata": {},
   "outputs": [
    {
     "name": "stdout",
     "output_type": "stream",
     "text": [
      "Found 602 paths in common.\n"
     ]
    }
   ],
   "source": [
    "import json\n",
    "\n",
    "def get_image_paths(json_file: dict) -> set: \n",
    "    training_images = json_file['training']  # List of dicts with only one key\n",
    "    training_paths = [training_image['image'] for training_image in training_images]\n",
    "\n",
    "    validation_images = json_file['validation']\n",
    "    validation_paths = [validation_image['image'] for validation_image in validation_images]\n",
    "    \n",
    "    return set(training_paths).union(validation_paths)\n",
    "\n",
    "if __name__ == '__main__':\n",
    "    with open('./jsons/dataset_HNSCC_0.json', 'r') as hnscc, \\\n",
    "    open('./jsons/dataset_TCIAcolon_v2_0.json', 'r') as colon:\n",
    "        hnscc_json = json.load(hnscc)\n",
    "        colon_json = json.load(colon)\n",
    "\n",
    "    hnscc_paths = get_image_paths(hnscc_json)\n",
    "    colon_paths = get_image_paths(colon_json)\n",
    "\n",
    "    paths_in_common = hnscc_paths.intersection(colon_paths)\n",
    "    \n",
    "    print(f'Found {len(paths_in_common)} paths in common.')\n"
   ]
  },
  {
   "cell_type": "code",
   "execution_count": 12,
   "id": "4d24f277-ad91-4c06-9913-a59f64866de9",
   "metadata": {},
   "outputs": [
    {
     "name": "stdout",
     "output_type": "stream",
     "text": [
      "Found 602 paths in common.\n"
     ]
    }
   ],
   "source": [
    "import json\n",
    "\n",
    "def get_image_paths(json_file: dict) -> set: \n",
    "    training_images = json_file['training']  # List of dicts with only one key\n",
    "    training_paths = [training_image['image'] for training_image in training_images]\n",
    "\n",
    "    validation_images = json_file['validation']\n",
    "    validation_paths = [validation_image['image'] for validation_image in validation_images]\n",
    "    \n",
    "    return set(training_paths).union(validation_paths)\n",
    "\n",
    "if __name__ == '__main__':\n",
    "    with open('./jsons/dataset_HNSCC_0.json', 'r') as hnscc, \\\n",
    "         open('./jsons/dataset_TCIAcolon_v2_0.json', 'r') as colon:\n",
    "        hnscc_json = json.load(hnscc)\n",
    "        colon_json = json.load(colon)\n",
    "\n",
    "    hnscc_paths = get_image_paths(hnscc_json)\n",
    "    colon_paths = get_image_paths(colon_json)\n",
    "\n",
    "    paths_in_common = hnscc_paths.intersection(colon_paths)\n",
    "    \n",
    "    print(f'Found {len(paths_in_common)} paths in common.')"
   ]
  },
  {
   "cell_type": "code",
   "execution_count": null,
   "id": "01dbf4b9-9894-4751-8803-a152146c9226",
   "metadata": {},
   "outputs": [],
   "source": []
  }
 ],
 "metadata": {
  "kernelspec": {
   "display_name": "sitkpy",
   "language": "python",
   "name": "sitkpy"
  },
  "language_info": {
   "codemirror_mode": {
    "name": "ipython",
    "version": 3
   },
   "file_extension": ".py",
   "mimetype": "text/x-python",
   "name": "python",
   "nbconvert_exporter": "python",
   "pygments_lexer": "ipython3",
   "version": "3.8.13"
  }
 },
 "nbformat": 4,
 "nbformat_minor": 5
}
