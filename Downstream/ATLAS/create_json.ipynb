{
 "cells": [
  {
   "cell_type": "markdown",
   "id": "9e47f08b-6229-4200-81a1-11db8df8832c",
   "metadata": {},
   "source": [
    "# Debugging for making json file"
   ]
  },
  {
   "cell_type": "code",
   "execution_count": 10,
   "id": "4606976c-67ae-4b65-be14-110692cba5ae",
   "metadata": {},
   "outputs": [],
   "source": [
    "import json\n",
    "import os \n",
    "from pathlib import Path\n",
    "from sklearn.model_selection import train_test_split\n",
    "import random"
   ]
  },
  {
   "cell_type": "code",
   "execution_count": 6,
   "id": "3309e475-03a8-4a1f-8a9a-aa4b2cbe8f94",
   "metadata": {},
   "outputs": [],
   "source": [
    "def split_atlas_data(data_directory: str, train_fraction: float = 0.8, seed: int = None) -> tuple:\n",
    "    \"\"\"Locates and splits ATLAS 2.0 Data into training and validation lists.\n",
    "\n",
    "    :param data_directory: absolute path to the source file. For ATLAS should be /red/ruogu.fang/atlas/decrypt/ATLAS_2\n",
    "    :param train_fraction: percentage of the data split into training data\n",
    "    :param seed: random seed for splitting data. If None, data will be split differently each time.\n",
    "    :returns: tuple of training data, validation data. Each item in the tuple is a list of dictionaries pointing to the\n",
    "        with keys 'image' and 'label', similar to how the BraTS data is treated\n",
    "    \"\"\"\n",
    "\n",
    "    data_directory = Path(data_directory)\n",
    "    training_dir = data_directory / 'Training'\n",
    "    subdirectory = 'ses-1/anat/'\n",
    "\n",
    "    training = []\n",
    "    for record_id in training_dir.iterdir():\n",
    "        for subject_id in record_id.iterdir():\n",
    "            if str(subject_id).endswith('.json'):\n",
    "                continue \n",
    "            scan_path = training_dir / record_id / subject_id / subdirectory\n",
    "            label = f'{scan_path}/{os.path.basename(subject_id)}_ses-1_space-MNI152NLin2009aSym_label-L_desc-T1lesion_mask.nii.gz'\n",
    "            image = f'{scan_path}/{os.path.basename(subject_id)}_ses-1_space-MNI152NLin2009aSym_T1w.nii.gz'\n",
    "\n",
    "            training.append(\n",
    "                {\n",
    "                    'label': label,\n",
    "                    'image': image\n",
    "                }\n",
    "            )\n",
    "            \n",
    "    train, val = train_test_split(training, train_size=train_fraction, random_state=seed)\n",
    "    return train, val"
   ]
  },
  {
   "cell_type": "code",
   "execution_count": 9,
   "id": "4258d3c3-9dde-4492-bdf0-58b55adb44aa",
   "metadata": {},
   "outputs": [
    {
     "data": {
      "text/plain": [
       "{'label': '/red/ruogu.fang/atlas/decrypt/ATLAS_2/Training/R003/sub-r003s014/ses-1/anat/sub-r003s014_ses-1_space-MNI152NLin2009aSym_label-L_desc-T1lesion_mask.nii.gz',\n",
       " 'image': '/red/ruogu.fang/atlas/decrypt/ATLAS_2/Training/R003/sub-r003s014/ses-1/anat/sub-r003s014_ses-1_space-MNI152NLin2009aSym_T1w.nii.gz'}"
      ]
     },
     "execution_count": 9,
     "metadata": {},
     "output_type": "execute_result"
    }
   ],
   "source": [
    "split_atlas_data('/red/ruogu.fang/atlas/decrypt/ATLAS_2/')[0][0]"
   ]
  },
  {
   "cell_type": "markdown",
   "id": "27d1ddbf-21ae-4d83-a490-ec642b7ff57b",
   "metadata": {},
   "source": [
    "## Goal\n",
    "Create json file with format \n",
    "```json\n",
    "{\n",
    "    \"training\": [\n",
    "        {\n",
    "            \"fold\": 0,\n",
    "            \"image\": [\n",
    "                \"TrainingData/BraTS2021_01146/BraTS2021_01146_flair.nii.gz\",\n",
    "                \"TrainingData/BraTS2021_01146/BraTS2021_01146_t1ce.nii.gz\",\n",
    "                \"TrainingData/BraTS2021_01146/BraTS2021_01146_t1.nii.gz\",\n",
    "                \"TrainingData/BraTS2021_01146/BraTS2021_01146_t2.nii.gz\"\n",
    "            ],\n",
    "            \"label\": \"TrainingData/BraTS2021_01146/BraTS2021_01146_seg.nii.gz\"\n",
    "        },\n",
    "        {\n",
    "            \"fold\": 0,\n",
    "            \"image\": [\n",
    "                \"TrainingData/BraTS2021_01419/BraTS2021_01419_flair.nii.gz\",\n",
    "                \"TrainingData/BraTS2021_01419/BraTS2021_01419_t1ce.nii.gz\",\n",
    "                \"TrainingData/BraTS2021_01419/BraTS2021_01419_t1.nii.gz\",\n",
    "                \"TrainingData/BraTS2021_01419/BraTS2021_01419_t2.nii.gz\"\n",
    "            ],\n",
    "            \"label\": \"TrainingData/BraTS2021_01419/BraTS2021_01419_seg.nii.gz\"\n",
    "        },\n",
    "        {\n",
    "            \"fold\": 0,\n",
    "            \"image\": [\n",
    "                \"TrainingData/BraTS2021_00483/BraTS2021_00483_flair.nii.gz\",\n",
    "                \"TrainingData/BraTS2021_00483/BraTS2021_00483_t1ce.nii.gz\",\n",
    "                \"TrainingData/BraTS2021_00483/BraTS2021_00483_t1.nii.gz\",\n",
    "                \"TrainingData/BraTS2021_00483/BraTS2021_00483_t2.nii.gz\"\n",
    "            ],\n",
    "            \"label\": \"TrainingData/BraTS2021_00483/BraTS2021_00483_seg.nii.gz\"\n",
    "        }\n",
    "    ]\n",
    "}\n",
    "```"
   ]
  },
  {
   "cell_type": "code",
   "execution_count": 15,
   "id": "0059fb49-3c2e-4cf3-b002-c9af11f3f13b",
   "metadata": {},
   "outputs": [],
   "source": [
    "def reasonable_format_to_bad_format(reasonable_format: str) -> str:\n",
    "    \"\"\"Take data from the reasonable format found in the code I made, and put it into the awful json format \n",
    "    from SwinUNETR. Note that doing this will not solve the issue I was having anyways, but thats whatever. If \n",
    "    \"\"\"\n",
    "    base_dir = '/red/ruogu.fang/atlas/decrypt/ATLAS_2/'\n",
    "    return reasonable_format.split(base_dir)[1]\n",
    "\n",
    "training = []\n",
    "for fold in range(5):\n",
    "    seed = random.randint(0, 10_000_000)\n",
    "    training_images, _ = split_atlas_data('/red/ruogu.fang/atlas/decrypt/ATLAS_2/', seed=seed)\n",
    "    output_json = {}\n",
    "    for image_dict in training_images:\n",
    "        image = reasonable_format_to_bad_format(image_dict['image'])\n",
    "        label = reasonable_format_to_bad_format(image_dict['label'])\n",
    "        images = [image, image]  # Duplicatae the image for 2 channel input\n",
    "        training.append(\n",
    "            {\n",
    "                \"fold\": fold, \n",
    "                \"image\": images,\n",
    "                \"label\": label\n",
    "            }\n",
    "    )"
   ]
  },
  {
   "cell_type": "code",
   "execution_count": 18,
   "id": "32063253-de72-4a8b-ab76-6c39c94887ff",
   "metadata": {},
   "outputs": [],
   "source": [
    "outdir = './jsons/'\n",
    "outfile = 'atlas_2_folds_2channel.json'\n",
    "\n",
    "os.makedirs(outdir, exist_ok=True)\n",
    "with open(Path(outdir) / outfile, 'w') as json_file:\n",
    "    output = {'training': training}\n",
    "    json.dump(output, json_file)\n"
   ]
  },
  {
   "cell_type": "code",
   "execution_count": null,
   "id": "97632811-a789-4ada-bc8b-22c59c0f87e8",
   "metadata": {},
   "outputs": [],
   "source": []
  }
 ],
 "metadata": {
  "kernelspec": {
   "display_name": "GatorBrain",
   "language": "python",
   "name": "gatorbrain"
  },
  "language_info": {
   "codemirror_mode": {
    "name": "ipython",
    "version": 3
   },
   "file_extension": ".py",
   "mimetype": "text/x-python",
   "name": "python",
   "nbconvert_exporter": "python",
   "pygments_lexer": "ipython3",
   "version": "3.10.6"
  }
 },
 "nbformat": 4,
 "nbformat_minor": 5
}
