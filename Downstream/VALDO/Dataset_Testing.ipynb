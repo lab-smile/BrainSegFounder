{
 "cells": [
  {
   "cell_type": "markdown",
   "id": "730734af-e5c0-470d-8f13-d5e1fa9b1bb0",
   "metadata": {},
   "source": [
    "## Creating the JSON file"
   ]
  },
  {
   "cell_type": "code",
   "execution_count": 1,
   "id": "7045ef34-8f5b-436a-8e34-15fc1d60dcf6",
   "metadata": {},
   "outputs": [],
   "source": [
    "import pathlib\n",
    "from typing import Callable, List, Dict\n",
    "import random\n",
    "import json\n",
    "\n",
    "BASE_PATH = pathlib.Path(\"/red/ruogu.fang/VALDO\")\n",
    "\n",
    "\n",
    "def get_label_filter_for_task(task: int) -> Callable[[pathlib.Path], bool]:\n",
    "    filters = {1: lambda path: path.name.endswith('Seg.nii.gz'), 2: lambda path: path.name.endswith('CMB.nii.gz')}\n",
    "    if task in filters:\n",
    "        return filters[task]\n",
    "    return lambda path: 'Rater' in path.name\n",
    "        \n",
    "def get_image_filter_for_task(task: int) -> Callable[[pathlib.Path], bool]:\n",
    "    filters = {1: lambda path: not 'Region' in path.name and path.suffix != \".csv\"}\n",
    "    if task in filters:\n",
    "        return filters[task]\n",
    "    return lambda path: True\n",
    "\n",
    "def create_fold_data(task: int) -> List[Dict[str, List[str]]]:\n",
    "    data = []\n",
    "    task_folder = BASE_PATH / f\"Task{task}\"\n",
    "    label_filter = get_label_filter_for_task(task)\n",
    "    image_filter = get_image_filter_for_task(task)\n",
    "    for patient_folder in task_folder.iterdir():\n",
    "        labels = []\n",
    "        images = []\n",
    "        for file in patient_folder.iterdir():\n",
    "            if label_filter(file):\n",
    "                labels.append(str(file))\n",
    "            elif image_filter(file):\n",
    "                images.append(str(file))\n",
    "        if labels:          \n",
    "            data.append({'image': images, 'label': labels})\n",
    "    return data\n",
    "\n",
    "\n",
    "def create_cross_validation_data():\n",
    "    cross_validation_data = {}\n",
    "    for task in range(1, 4):\n",
    "        task_key = f'Task_{task}'\n",
    "        cross_validation_data[task_key] = {}\n",
    "        for fold in range(5):\n",
    "            fold_key = str(fold)\n",
    "            fold_data = create_fold_data(task)\n",
    "            random.shuffle(fold_data)  \n",
    "            split_index = int(0.8 * len(fold_data))\n",
    "            training_data = fold_data[:split_index]\n",
    "            validation_data = fold_data[split_index:]\n",
    "            cross_validation_data[task_key][fold_key] = {\n",
    "                'training': training_data,\n",
    "                'validation': validation_data\n",
    "            }\n",
    "    return cross_validation_data"
   ]
  },
  {
   "cell_type": "code",
   "execution_count": 2,
   "id": "79d55949-67b5-4700-9784-158aa8911373",
   "metadata": {},
   "outputs": [],
   "source": [
    "json_data = create_cross_validation_data()"
   ]
  },
  {
   "cell_type": "code",
   "execution_count": 3,
   "id": "1db8fde2-b238-4047-a803-3f3efcc66255",
   "metadata": {},
   "outputs": [
    {
     "name": "stdout",
     "output_type": "stream",
     "text": [
      "JSON file created successfully.\n"
     ]
    }
   ],
   "source": [
    "with open('valdo_data_folds.json', 'w') as f:\n",
    "    json.dump(json_data, f, indent=4)\n",
    "\n",
    "print(\"JSON file created successfully.\")"
   ]
  },
  {
   "cell_type": "markdown",
   "id": "d1f4e8af-634c-48cb-aa92-6bb3b2658dbb",
   "metadata": {},
   "source": [
    "# Datafold Read"
   ]
  },
  {
   "cell_type": "code",
   "execution_count": 22,
   "id": "8cb69a2f-d26a-4620-a509-a85e50c1423b",
   "metadata": {},
   "outputs": [],
   "source": [
    "def datafold_read(datalist: str, task: str, fold: str, first_reviewer_only: bool = True):\n",
    "    with open(datalist) as f:\n",
    "        json_data = json.load(f)\n",
    "\n",
    "    task_files = json_data[task]\n",
    "    fold_data = task_files[fold]\n",
    "    train, val = fold_data['training'], fold_data['validation']\n",
    "    \n",
    "    if first_reviewer_only:\n",
    "        train, val = remove_alternative_reviewers(train), remove_alternative_reviewers(val)\n",
    "    return train, val\n",
    "\n",
    "\n",
    "def remove_alternative_reviewers(dataset: list[dict]):\n",
    "    for subject in dataset:\n",
    "        subject['label'] = [subject['label'][0]]\n",
    "    return dataset"
   ]
  },
  {
   "cell_type": "code",
   "execution_count": 9,
   "id": "b1b0b3e0-0635-440b-b784-bff4c1dc8d9f",
   "metadata": {},
   "outputs": [],
   "source": [
    "test_list = [1, 2]"
   ]
  },
  {
   "cell_type": "code",
   "execution_count": 10,
   "id": "2dc99188-8a26-4389-90e7-9a7f298cdabf",
   "metadata": {},
   "outputs": [
    {
     "data": {
      "text/plain": [
       "2"
      ]
     },
     "execution_count": 10,
     "metadata": {},
     "output_type": "execute_result"
    }
   ],
   "source": [
    "test_list.pop()"
   ]
  },
  {
   "cell_type": "code",
   "execution_count": 11,
   "id": "4fbed685-6eab-4f13-a1c8-ceec55b29f70",
   "metadata": {},
   "outputs": [
    {
     "data": {
      "text/plain": [
       "[1]"
      ]
     },
     "execution_count": 11,
     "metadata": {},
     "output_type": "execute_result"
    }
   ],
   "source": [
    "test_list"
   ]
  },
  {
   "cell_type": "code",
   "execution_count": null,
   "id": "22b139fb-e450-4e62-ac83-6ad06a072b63",
   "metadata": {},
   "outputs": [],
   "source": []
  }
 ],
 "metadata": {
  "kernelspec": {
   "display_name": "GatorBrain",
   "language": "python",
   "name": "gatorbrain"
  },
  "language_info": {
   "codemirror_mode": {
    "name": "ipython",
    "version": 3
   },
   "file_extension": ".py",
   "mimetype": "text/x-python",
   "name": "python",
   "nbconvert_exporter": "python",
   "pygments_lexer": "ipython3",
   "version": "3.10.6"
  }
 },
 "nbformat": 4,
 "nbformat_minor": 5
}
