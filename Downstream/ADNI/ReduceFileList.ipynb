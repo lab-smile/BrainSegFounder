{
 "cells": [
  {
   "cell_type": "code",
   "execution_count": 1,
   "id": "b3e1c025-813e-4cc2-8e89-f57e665f43d9",
   "metadata": {},
   "outputs": [
    {
     "name": "stdout",
     "output_type": "stream",
     "text": [
      "               sample_id\n",
      "0      1008508_20252_2_0\n",
      "1      1008559_20252_2_0\n",
      "2      1555288_20252_2_0\n",
      "3      1555181_20252_2_0\n",
      "4      1554907_20252_2_0\n",
      "...                  ...\n",
      "22387  1553074_20252_2_0\n",
      "22388  1553502_20252_2_0\n",
      "22389  1553860_20252_2_0\n",
      "22390  1554618_20252_2_0\n",
      "22391  1554692_20252_2_0\n",
      "\n",
      "[22392 rows x 1 columns]\n"
     ]
    }
   ],
   "source": [
    "import pandas as pd\n",
    "import os\n",
    "\n",
    "df = pd.read_csv(\"T1_unzip_list.csv\")\n",
    "print(df)"
   ]
  },
  {
   "cell_type": "code",
   "execution_count": 2,
   "id": "66b686be-5eed-4a5b-b0ee-4766159b56e9",
   "metadata": {},
   "outputs": [],
   "source": [
    "items = df.values"
   ]
  },
  {
   "cell_type": "code",
   "execution_count": 3,
   "id": "aed41259-cd6d-4442-bd8a-669e86d1a2a9",
   "metadata": {},
   "outputs": [
    {
     "name": "stdout",
     "output_type": "stream",
     "text": [
      "[['1008508_20252_2_0']\n",
      " ['1008559_20252_2_0']\n",
      " ['1555288_20252_2_0']\n",
      " ...\n",
      " ['1553860_20252_2_0']\n",
      " ['1554618_20252_2_0']\n",
      " ['1554692_20252_2_0']]\n",
      "(22392, 1)\n"
     ]
    }
   ],
   "source": [
    "print(items)\n",
    "print(items.shape)"
   ]
  },
  {
   "cell_type": "code",
   "execution_count": 4,
   "id": "3f2c565d-35df-4def-b2f0-ab6d3580aa7a",
   "metadata": {},
   "outputs": [
    {
     "name": "stdout",
     "output_type": "stream",
     "text": [
      "(22392, 1)\n",
      "1033\n"
     ]
    },
    {
     "data": {
      "text/html": [
       "<div>\n",
       "<style scoped>\n",
       "    .dataframe tbody tr th:only-of-type {\n",
       "        vertical-align: middle;\n",
       "    }\n",
       "\n",
       "    .dataframe tbody tr th {\n",
       "        vertical-align: top;\n",
       "    }\n",
       "\n",
       "    .dataframe thead th {\n",
       "        text-align: right;\n",
       "    }\n",
       "</style>\n",
       "<table border=\"1\" class=\"dataframe\">\n",
       "  <thead>\n",
       "    <tr style=\"text-align: right;\">\n",
       "      <th></th>\n",
       "      <th>sample_id</th>\n",
       "    </tr>\n",
       "  </thead>\n",
       "  <tbody>\n",
       "    <tr>\n",
       "      <th>0</th>\n",
       "      <td>1008508_20252_2_0</td>\n",
       "    </tr>\n",
       "    <tr>\n",
       "      <th>1</th>\n",
       "      <td>1008559_20252_2_0</td>\n",
       "    </tr>\n",
       "    <tr>\n",
       "      <th>2</th>\n",
       "      <td>1555288_20252_2_0</td>\n",
       "    </tr>\n",
       "    <tr>\n",
       "      <th>3</th>\n",
       "      <td>1555181_20252_2_0</td>\n",
       "    </tr>\n",
       "    <tr>\n",
       "      <th>4</th>\n",
       "      <td>1554907_20252_2_0</td>\n",
       "    </tr>\n",
       "    <tr>\n",
       "      <th>...</th>\n",
       "      <td>...</td>\n",
       "    </tr>\n",
       "    <tr>\n",
       "      <th>22319</th>\n",
       "      <td>1635161_20252_2_0</td>\n",
       "    </tr>\n",
       "    <tr>\n",
       "      <th>22344</th>\n",
       "      <td>1640208_20252_2_0</td>\n",
       "    </tr>\n",
       "    <tr>\n",
       "      <th>22370</th>\n",
       "      <td>1645388_20252_2_0</td>\n",
       "    </tr>\n",
       "    <tr>\n",
       "      <th>22375</th>\n",
       "      <td>1646471_20252_2_0</td>\n",
       "    </tr>\n",
       "    <tr>\n",
       "      <th>22391</th>\n",
       "      <td>1554692_20252_2_0</td>\n",
       "    </tr>\n",
       "  </tbody>\n",
       "</table>\n",
       "<p>1033 rows × 1 columns</p>\n",
       "</div>"
      ],
      "text/plain": [
       "               sample_id\n",
       "0      1008508_20252_2_0\n",
       "1      1008559_20252_2_0\n",
       "2      1555288_20252_2_0\n",
       "3      1555181_20252_2_0\n",
       "4      1554907_20252_2_0\n",
       "...                  ...\n",
       "22319  1635161_20252_2_0\n",
       "22344  1640208_20252_2_0\n",
       "22370  1645388_20252_2_0\n",
       "22375  1646471_20252_2_0\n",
       "22391  1554692_20252_2_0\n",
       "\n",
       "[1033 rows x 1 columns]"
      ]
     },
     "execution_count": 4,
     "metadata": {},
     "output_type": "execute_result"
    }
   ],
   "source": [
    "count = 0\n",
    "remove_list = []\n",
    "for i, item in enumerate(items):\n",
    "    path = \"/red/ruogu.fang/UKB/Brain/20252_T1_NIFTI/T1_unzip/\" + item + \"/T1.nii.gz\"\n",
    "    path = path.item()\n",
    "    if (os.path.isfile(path) == False):\n",
    "#         print(item)\n",
    "        count += 1\n",
    "        remove_list.append(item.item())\n",
    "\n",
    "print(df.shape)\n",
    "print(count)\n",
    "\n",
    "# print(remove_list)\n",
    "df.loc[df['sample_id'].isin(remove_list)]"
   ]
  },
  {
   "cell_type": "code",
   "execution_count": 5,
   "id": "00e42cc6-b2f2-4637-916f-4c6fb4ff2c87",
   "metadata": {},
   "outputs": [],
   "source": [
    "new_df = df.drop(df.loc[df['sample_id'].isin(remove_list)].index)"
   ]
  },
  {
   "cell_type": "code",
   "execution_count": 6,
   "id": "c0a589d1-be88-4eb0-86d5-310f56cc88e2",
   "metadata": {},
   "outputs": [
    {
     "name": "stdout",
     "output_type": "stream",
     "text": [
      "---\n"
     ]
    }
   ],
   "source": [
    "print(\"---\")"
   ]
  },
  {
   "cell_type": "code",
   "execution_count": 7,
   "id": "5e48e5e4-d6d6-43e7-8296-1b0ef216d8e8",
   "metadata": {},
   "outputs": [
    {
     "data": {
      "text/html": [
       "<div>\n",
       "<style scoped>\n",
       "    .dataframe tbody tr th:only-of-type {\n",
       "        vertical-align: middle;\n",
       "    }\n",
       "\n",
       "    .dataframe tbody tr th {\n",
       "        vertical-align: top;\n",
       "    }\n",
       "\n",
       "    .dataframe thead th {\n",
       "        text-align: right;\n",
       "    }\n",
       "</style>\n",
       "<table border=\"1\" class=\"dataframe\">\n",
       "  <thead>\n",
       "    <tr style=\"text-align: right;\">\n",
       "      <th></th>\n",
       "      <th>sample_id</th>\n",
       "    </tr>\n",
       "  </thead>\n",
       "  <tbody>\n",
       "    <tr>\n",
       "      <th>0</th>\n",
       "      <td>1008508_20252_2_0</td>\n",
       "    </tr>\n",
       "    <tr>\n",
       "      <th>1</th>\n",
       "      <td>1008559_20252_2_0</td>\n",
       "    </tr>\n",
       "    <tr>\n",
       "      <th>2</th>\n",
       "      <td>1555288_20252_2_0</td>\n",
       "    </tr>\n",
       "    <tr>\n",
       "      <th>3</th>\n",
       "      <td>1555181_20252_2_0</td>\n",
       "    </tr>\n",
       "    <tr>\n",
       "      <th>4</th>\n",
       "      <td>1554907_20252_2_0</td>\n",
       "    </tr>\n",
       "    <tr>\n",
       "      <th>...</th>\n",
       "      <td>...</td>\n",
       "    </tr>\n",
       "    <tr>\n",
       "      <th>22319</th>\n",
       "      <td>1635161_20252_2_0</td>\n",
       "    </tr>\n",
       "    <tr>\n",
       "      <th>22344</th>\n",
       "      <td>1640208_20252_2_0</td>\n",
       "    </tr>\n",
       "    <tr>\n",
       "      <th>22370</th>\n",
       "      <td>1645388_20252_2_0</td>\n",
       "    </tr>\n",
       "    <tr>\n",
       "      <th>22375</th>\n",
       "      <td>1646471_20252_2_0</td>\n",
       "    </tr>\n",
       "    <tr>\n",
       "      <th>22391</th>\n",
       "      <td>1554692_20252_2_0</td>\n",
       "    </tr>\n",
       "  </tbody>\n",
       "</table>\n",
       "<p>1033 rows × 1 columns</p>\n",
       "</div>"
      ],
      "text/plain": [
       "               sample_id\n",
       "0      1008508_20252_2_0\n",
       "1      1008559_20252_2_0\n",
       "2      1555288_20252_2_0\n",
       "3      1555181_20252_2_0\n",
       "4      1554907_20252_2_0\n",
       "...                  ...\n",
       "22319  1635161_20252_2_0\n",
       "22344  1640208_20252_2_0\n",
       "22370  1645388_20252_2_0\n",
       "22375  1646471_20252_2_0\n",
       "22391  1554692_20252_2_0\n",
       "\n",
       "[1033 rows x 1 columns]"
      ]
     },
     "execution_count": 7,
     "metadata": {},
     "output_type": "execute_result"
    }
   ],
   "source": [
    "df.loc[df['sample_id'].isin(remove_list)]"
   ]
  },
  {
   "cell_type": "code",
   "execution_count": 8,
   "id": "3df6fa3c-f8f6-4473-ad36-1f4036249aa1",
   "metadata": {},
   "outputs": [
    {
     "data": {
      "text/html": [
       "<div>\n",
       "<style scoped>\n",
       "    .dataframe tbody tr th:only-of-type {\n",
       "        vertical-align: middle;\n",
       "    }\n",
       "\n",
       "    .dataframe tbody tr th {\n",
       "        vertical-align: top;\n",
       "    }\n",
       "\n",
       "    .dataframe thead th {\n",
       "        text-align: right;\n",
       "    }\n",
       "</style>\n",
       "<table border=\"1\" class=\"dataframe\">\n",
       "  <thead>\n",
       "    <tr style=\"text-align: right;\">\n",
       "      <th></th>\n",
       "      <th>sample_id</th>\n",
       "    </tr>\n",
       "  </thead>\n",
       "  <tbody>\n",
       "  </tbody>\n",
       "</table>\n",
       "</div>"
      ],
      "text/plain": [
       "Empty DataFrame\n",
       "Columns: [sample_id]\n",
       "Index: []"
      ]
     },
     "execution_count": 8,
     "metadata": {},
     "output_type": "execute_result"
    }
   ],
   "source": [
    "new_df.loc[new_df['sample_id'].isin(remove_list)]"
   ]
  },
  {
   "cell_type": "code",
   "execution_count": 9,
   "id": "8c460dd5-d0d3-4a5f-bd90-0d9886966205",
   "metadata": {},
   "outputs": [
    {
     "data": {
      "text/html": [
       "<div>\n",
       "<style scoped>\n",
       "    .dataframe tbody tr th:only-of-type {\n",
       "        vertical-align: middle;\n",
       "    }\n",
       "\n",
       "    .dataframe tbody tr th {\n",
       "        vertical-align: top;\n",
       "    }\n",
       "\n",
       "    .dataframe thead th {\n",
       "        text-align: right;\n",
       "    }\n",
       "</style>\n",
       "<table border=\"1\" class=\"dataframe\">\n",
       "  <thead>\n",
       "    <tr style=\"text-align: right;\">\n",
       "      <th></th>\n",
       "      <th>sample_id</th>\n",
       "    </tr>\n",
       "  </thead>\n",
       "  <tbody>\n",
       "    <tr>\n",
       "      <th>27</th>\n",
       "      <td>1552110_20252_2_0</td>\n",
       "    </tr>\n",
       "    <tr>\n",
       "      <th>28</th>\n",
       "      <td>1552639_20252_2_0</td>\n",
       "    </tr>\n",
       "    <tr>\n",
       "      <th>29</th>\n",
       "      <td>1552640_20252_2_0</td>\n",
       "    </tr>\n",
       "    <tr>\n",
       "      <th>30</th>\n",
       "      <td>1554064_20252_2_0</td>\n",
       "    </tr>\n",
       "    <tr>\n",
       "      <th>35</th>\n",
       "      <td>1647972_20252_2_0</td>\n",
       "    </tr>\n",
       "    <tr>\n",
       "      <th>...</th>\n",
       "      <td>...</td>\n",
       "    </tr>\n",
       "    <tr>\n",
       "      <th>22386</th>\n",
       "      <td>1552606_20252_2_0</td>\n",
       "    </tr>\n",
       "    <tr>\n",
       "      <th>22387</th>\n",
       "      <td>1553074_20252_2_0</td>\n",
       "    </tr>\n",
       "    <tr>\n",
       "      <th>22388</th>\n",
       "      <td>1553502_20252_2_0</td>\n",
       "    </tr>\n",
       "    <tr>\n",
       "      <th>22389</th>\n",
       "      <td>1553860_20252_2_0</td>\n",
       "    </tr>\n",
       "    <tr>\n",
       "      <th>22390</th>\n",
       "      <td>1554618_20252_2_0</td>\n",
       "    </tr>\n",
       "  </tbody>\n",
       "</table>\n",
       "<p>21359 rows × 1 columns</p>\n",
       "</div>"
      ],
      "text/plain": [
       "               sample_id\n",
       "27     1552110_20252_2_0\n",
       "28     1552639_20252_2_0\n",
       "29     1552640_20252_2_0\n",
       "30     1554064_20252_2_0\n",
       "35     1647972_20252_2_0\n",
       "...                  ...\n",
       "22386  1552606_20252_2_0\n",
       "22387  1553074_20252_2_0\n",
       "22388  1553502_20252_2_0\n",
       "22389  1553860_20252_2_0\n",
       "22390  1554618_20252_2_0\n",
       "\n",
       "[21359 rows x 1 columns]"
      ]
     },
     "execution_count": 9,
     "metadata": {},
     "output_type": "execute_result"
    }
   ],
   "source": [
    "new_df"
   ]
  },
  {
   "cell_type": "code",
   "execution_count": null,
   "id": "5bc02331-fb78-4769-900e-1f80344d22fc",
   "metadata": {},
   "outputs": [],
   "source": []
  },
  {
   "cell_type": "code",
   "execution_count": 10,
   "id": "c4238200-f4a9-427e-b0a9-35abbc47201d",
   "metadata": {},
   "outputs": [
    {
     "name": "stdout",
     "output_type": "stream",
     "text": [
      "1033\n"
     ]
    }
   ],
   "source": [
    "items2 = df.values\n",
    "count = 0\n",
    "for i, item in enumerate(items2):\n",
    "    path = \"/red/ruogu.fang/UKB/Brain/20252_T1_NIFTI/T1_unzip/\" + item + \"/T1.nii.gz\"\n",
    "    path = path.item()\n",
    "    if (os.path.isfile(path) == False):\n",
    "#         print(path)\n",
    "        count += 1\n",
    "\n",
    "print(count)"
   ]
  },
  {
   "cell_type": "code",
   "execution_count": 12,
   "id": "fe2bf5f6-702b-4429-9a12-93d112b9a7fa",
   "metadata": {},
   "outputs": [],
   "source": [
    "new_df.to_csv('T1_unzip_reduced_list.csv')"
   ]
  },
  {
   "cell_type": "code",
   "execution_count": null,
   "id": "eacdd16a-a522-49cd-88f4-ef871a5aca9e",
   "metadata": {},
   "outputs": [],
   "source": []
  }
 ],
 "metadata": {
  "kernelspec": {
   "display_name": "UFRC Python-3.8",
   "language": "python",
   "name": "python3-3.8-ufrc"
  },
  "language_info": {
   "codemirror_mode": {
    "name": "ipython",
    "version": 3
   },
   "file_extension": ".py",
   "mimetype": "text/x-python",
   "name": "python",
   "nbconvert_exporter": "python",
   "pygments_lexer": "ipython3",
   "version": "3.8.5"
  }
 },
 "nbformat": 4,
 "nbformat_minor": 5
}
